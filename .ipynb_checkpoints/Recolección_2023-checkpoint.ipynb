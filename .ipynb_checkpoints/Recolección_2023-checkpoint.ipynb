{
 "cells": [
  {
   "cell_type": "code",
   "execution_count": 41,
   "id": "6c015ced-9206-4f2c-8d42-f6318dbb9ee2",
   "metadata": {},
   "outputs": [],
   "source": [
    "from selenium import webdriver\n",
    "from selenium.webdriver.common.keys import Keys\n",
    "from selenium.webdriver.common.by import By\n",
    "from selenium.webdriver.firefox.options import Options\n",
    "from selenium.webdriver.support.ui import Select\n",
    "from selenium.common.exceptions import NoSuchElementException\n",
    "from bs4 import BeautifulSoup as bs\n",
    "import time\n",
    "import re\n",
    "import pandas as pd, numpy as np\n",
    "import os\n",
    "from datetime import datetime, date, timedelta\n",
    "import requests\n",
    "import tabula\n",
    "import warnings\n",
    "warnings.filterwarnings('ignore')"
   ]
  },
  {
   "cell_type": "code",
   "execution_count": 2,
   "id": "45409ed1-e005-4e3b-a44a-fcdfabe86b81",
   "metadata": {},
   "outputs": [],
   "source": [
    "options = Options()\n",
    "options.headless = True\n",
    "\n",
    "# Configurar preferencias\n",
    "options.set_preference('permissions.default.image', 2)\n",
    "options.set_preference('dom.ipc.plugins.enabled.libflashplayer.so', False)\n",
    "options.set_preference(\"browser.download.folderList\", 2)\n",
    "options.set_preference(\"browser.download.manager.showWhenStarting\", False)\n",
    "options.set_preference('pdfjs.disabled', True)\n",
    "options.set_preference(\"browser.download.dir\", \"C:\\\\Users\\\\HP SUPPORT\\\\Documents\\\\trabajos\\\\DataMining\\\\pdfs2023\")\n",
    "options.set_preference(\"browser.helperApps.neverAsk.saveToDisk\", \"application/pdf\")"
   ]
  },
  {
   "cell_type": "code",
   "execution_count": 25,
   "id": "9e8fb3c4-62fe-4caf-8d5d-4627bd6cd59f",
   "metadata": {},
   "outputs": [],
   "source": [
    "# Crear instancia del navegador\n",
    "driver = webdriver.Firefox(options=options)\n",
    "driver.implicitly_wait(300)\n",
    "\n",
    "# Abrir url en el driver\n",
    "driver.get('https://www.dge.gob.pe/epipublic/publico/listado/13/2023/0')\n",
    "driver.maximize_window()\n",
    "time.sleep(5)\n",
    "\n",
    "# Colocar 50 registros por página\n",
    "selectPaginacion = Select(driver.find_element(By.XPATH, '//select[@name=\"casosIndividual_length\"]'))\n",
    "selectPaginacion.select_by_visible_text('50')\n",
    "time.sleep(2)\n",
    "\n",
    "# Tablas\n",
    "filas = driver.find_elements(By.XPATH, '//a[text()=\"Ver archivo\"]')\n",
    "for fila in filas:\n",
    "    fila.click()"
   ]
  },
  {
   "cell_type": "code",
   "execution_count": 34,
   "id": "df5c81de-b0f0-4757-830d-e80b3d1ffc90",
   "metadata": {},
   "outputs": [],
   "source": [
    "for pdf in os.listdir('pdfs2023'):\n",
    "    if len(pdf)<=17: pass\n",
    "    else: os.rename(f\"pdfs2023/{pdf}\",f\"pdfs2023/{pdf.split('_')[0] + '_' + pdf.split('_')[1]}.pdf\")"
   ]
  },
  {
   "cell_type": "code",
   "execution_count": 3,
   "id": "b657892f-0c91-4ea2-9524-ffb4bf7d55aa",
   "metadata": {},
   "outputs": [
    {
     "data": {
      "text/plain": [
       "'C:\\\\Program Files\\\\gs\\\\gs10.03.0\\\\bin\\\\gsdll64.dll'"
      ]
     },
     "execution_count": 3,
     "metadata": {},
     "output_type": "execute_result"
    }
   ],
   "source": [
    "import camelot\n",
    "import cv2\n",
    "import tkinter\n",
    "import ctypes\n",
    "from ctypes.util import find_library\n",
    "find_library(\"\".join((\"gsdll\", str(ctypes.sizeof(ctypes.c_voidp) * 8), \".dll\")))"
   ]
  },
  {
   "cell_type": "code",
   "execution_count": 42,
   "id": "80cee10c-4cfa-4443-8610-22d42835edd0",
   "metadata": {},
   "outputs": [
    {
     "ename": "KeyboardInterrupt",
     "evalue": "",
     "output_type": "error",
     "traceback": [
      "\u001b[1;31m---------------------------------------------------------------------------\u001b[0m",
      "\u001b[1;31mKeyboardInterrupt\u001b[0m                         Traceback (most recent call last)",
      "Cell \u001b[1;32mIn[42], line 8\u001b[0m\n\u001b[0;32m      6\u001b[0m \u001b[38;5;28;01mfor\u001b[39;00m i \u001b[38;5;129;01min\u001b[39;00m \u001b[38;5;28mrange\u001b[39m(\u001b[38;5;241m1\u001b[39m,\u001b[38;5;241m53\u001b[39m):\n\u001b[0;32m      7\u001b[0m     \u001b[38;5;28;01mif\u001b[39;00m os\u001b[38;5;241m.\u001b[39mpath\u001b[38;5;241m.\u001b[39mexists(\u001b[38;5;124mf\u001b[39m\u001b[38;5;124m'\u001b[39m\u001b[38;5;124mpdfs2023/dengue_2023\u001b[39m\u001b[38;5;132;01m{\u001b[39;00mi\u001b[38;5;132;01m}\u001b[39;00m\u001b[38;5;124m.pdf\u001b[39m\u001b[38;5;124m'\u001b[39m):\n\u001b[1;32m----> 8\u001b[0m         tables \u001b[38;5;241m=\u001b[39m camelot\u001b[38;5;241m.\u001b[39mread_pdf(\u001b[38;5;124mf\u001b[39m\u001b[38;5;124m'\u001b[39m\u001b[38;5;124mpdfs2023/dengue_2023\u001b[39m\u001b[38;5;132;01m{\u001b[39;00mi\u001b[38;5;132;01m}\u001b[39;00m\u001b[38;5;124m.pdf\u001b[39m\u001b[38;5;124m'\u001b[39m,flavor\u001b[38;5;241m=\u001b[39m\u001b[38;5;124m'\u001b[39m\u001b[38;5;124mstream\u001b[39m\u001b[38;5;124m'\u001b[39m,pages\u001b[38;5;241m=\u001b[39m\u001b[38;5;124m'\u001b[39m\u001b[38;5;124mall\u001b[39m\u001b[38;5;124m'\u001b[39m)\n\u001b[0;32m      9\u001b[0m         tablas_interes \u001b[38;5;241m=\u001b[39m [tabla\u001b[38;5;241m.\u001b[39mdf \u001b[38;5;28;01mfor\u001b[39;00m tabla \u001b[38;5;129;01min\u001b[39;00m tables \u001b[38;5;28;01mif\u001b[39;00m \u001b[38;5;28many\u001b[39m(tabla\u001b[38;5;241m.\u001b[39mdf\u001b[38;5;241m.\u001b[39mapply(\u001b[38;5;28;01mlambda\u001b[39;00m column: column\u001b[38;5;241m.\u001b[39mastype(\u001b[38;5;28mstr\u001b[39m)\u001b[38;5;241m.\u001b[39mstr\u001b[38;5;241m.\u001b[39mcontains(\u001b[38;5;124m'\u001b[39m\u001b[38;5;124m|\u001b[39m\u001b[38;5;124m'\u001b[39m\u001b[38;5;241m.\u001b[39mjoin(claves))\u001b[38;5;241m.\u001b[39many()))]\n\u001b[0;32m     11\u001b[0m         pdfscraping[\u001b[38;5;124m'\u001b[39m\u001b[38;5;124msemana\u001b[39m\u001b[38;5;124m'\u001b[39m] \u001b[38;5;241m+\u001b[39m\u001b[38;5;241m=\u001b[39m [i]\n",
      "File \u001b[1;32m~\\anaconda3\\Lib\\site-packages\\camelot\\io.py:113\u001b[0m, in \u001b[0;36mread_pdf\u001b[1;34m(filepath, pages, password, flavor, suppress_stdout, layout_kwargs, **kwargs)\u001b[0m\n\u001b[0;32m    111\u001b[0m p \u001b[38;5;241m=\u001b[39m PDFHandler(filepath, pages\u001b[38;5;241m=\u001b[39mpages, password\u001b[38;5;241m=\u001b[39mpassword)\n\u001b[0;32m    112\u001b[0m kwargs \u001b[38;5;241m=\u001b[39m remove_extra(kwargs, flavor\u001b[38;5;241m=\u001b[39mflavor)\n\u001b[1;32m--> 113\u001b[0m tables \u001b[38;5;241m=\u001b[39m p\u001b[38;5;241m.\u001b[39mparse(\n\u001b[0;32m    114\u001b[0m     flavor\u001b[38;5;241m=\u001b[39mflavor,\n\u001b[0;32m    115\u001b[0m     suppress_stdout\u001b[38;5;241m=\u001b[39msuppress_stdout,\n\u001b[0;32m    116\u001b[0m     layout_kwargs\u001b[38;5;241m=\u001b[39mlayout_kwargs,\n\u001b[0;32m    117\u001b[0m     \u001b[38;5;241m*\u001b[39m\u001b[38;5;241m*\u001b[39mkwargs\n\u001b[0;32m    118\u001b[0m )\n\u001b[0;32m    119\u001b[0m \u001b[38;5;28;01mreturn\u001b[39;00m tables\n",
      "File \u001b[1;32m~\\anaconda3\\Lib\\site-packages\\camelot\\handlers.py:176\u001b[0m, in \u001b[0;36mPDFHandler.parse\u001b[1;34m(self, flavor, suppress_stdout, layout_kwargs, **kwargs)\u001b[0m\n\u001b[0;32m    174\u001b[0m     parser \u001b[38;5;241m=\u001b[39m Lattice(\u001b[38;5;241m*\u001b[39m\u001b[38;5;241m*\u001b[39mkwargs) \u001b[38;5;28;01mif\u001b[39;00m flavor \u001b[38;5;241m==\u001b[39m \u001b[38;5;124m\"\u001b[39m\u001b[38;5;124mlattice\u001b[39m\u001b[38;5;124m\"\u001b[39m \u001b[38;5;28;01melse\u001b[39;00m Stream(\u001b[38;5;241m*\u001b[39m\u001b[38;5;241m*\u001b[39mkwargs)\n\u001b[0;32m    175\u001b[0m     \u001b[38;5;28;01mfor\u001b[39;00m p \u001b[38;5;129;01min\u001b[39;00m pages:\n\u001b[1;32m--> 176\u001b[0m         t \u001b[38;5;241m=\u001b[39m parser\u001b[38;5;241m.\u001b[39mextract_tables(\n\u001b[0;32m    177\u001b[0m             p, suppress_stdout\u001b[38;5;241m=\u001b[39msuppress_stdout, layout_kwargs\u001b[38;5;241m=\u001b[39mlayout_kwargs\n\u001b[0;32m    178\u001b[0m         )\n\u001b[0;32m    179\u001b[0m         tables\u001b[38;5;241m.\u001b[39mextend(t)\n\u001b[0;32m    180\u001b[0m \u001b[38;5;28;01mreturn\u001b[39;00m TableList(\u001b[38;5;28msorted\u001b[39m(tables))\n",
      "File \u001b[1;32m~\\anaconda3\\Lib\\site-packages\\camelot\\parsers\\stream.py:456\u001b[0m, in \u001b[0;36mStream.extract_tables\u001b[1;34m(self, filename, suppress_stdout, layout_kwargs)\u001b[0m\n\u001b[0;32m    453\u001b[0m         warnings\u001b[38;5;241m.\u001b[39mwarn(\u001b[38;5;124mf\u001b[39m\u001b[38;5;124m\"\u001b[39m\u001b[38;5;124mNo tables found on \u001b[39m\u001b[38;5;132;01m{\u001b[39;00mbase_filename\u001b[38;5;132;01m}\u001b[39;00m\u001b[38;5;124m\"\u001b[39m)\n\u001b[0;32m    454\u001b[0m     \u001b[38;5;28;01mreturn\u001b[39;00m []\n\u001b[1;32m--> 456\u001b[0m \u001b[38;5;28mself\u001b[39m\u001b[38;5;241m.\u001b[39m_generate_table_bbox()\n\u001b[0;32m    458\u001b[0m _tables \u001b[38;5;241m=\u001b[39m []\n\u001b[0;32m    459\u001b[0m \u001b[38;5;66;03m# sort tables based on y-coord\u001b[39;00m\n",
      "File \u001b[1;32m~\\anaconda3\\Lib\\site-packages\\camelot\\parsers\\stream.py:310\u001b[0m, in \u001b[0;36mStream._generate_table_bbox\u001b[1;34m(self)\u001b[0m\n\u001b[0;32m    308\u001b[0m             hor_text\u001b[38;5;241m.\u001b[39mextend(region_text)\n\u001b[0;32m    309\u001b[0m     \u001b[38;5;66;03m# find tables based on nurminen's detection algorithm\u001b[39;00m\n\u001b[1;32m--> 310\u001b[0m     table_bbox \u001b[38;5;241m=\u001b[39m \u001b[38;5;28mself\u001b[39m\u001b[38;5;241m.\u001b[39m_nurminen_table_detection(hor_text)\n\u001b[0;32m    311\u001b[0m \u001b[38;5;28;01melse\u001b[39;00m:\n\u001b[0;32m    312\u001b[0m     table_bbox \u001b[38;5;241m=\u001b[39m {}\n",
      "File \u001b[1;32m~\\anaconda3\\Lib\\site-packages\\camelot\\parsers\\stream.py:282\u001b[0m, in \u001b[0;36mStream._nurminen_table_detection\u001b[1;34m(self, textlines)\u001b[0m\n\u001b[0;32m    280\u001b[0m textedges \u001b[38;5;241m=\u001b[39m TextEdges(edge_tol\u001b[38;5;241m=\u001b[39m\u001b[38;5;28mself\u001b[39m\u001b[38;5;241m.\u001b[39medge_tol)\n\u001b[0;32m    281\u001b[0m \u001b[38;5;66;03m# generate left, middle and right textedges\u001b[39;00m\n\u001b[1;32m--> 282\u001b[0m textedges\u001b[38;5;241m.\u001b[39mgenerate(textlines)\n\u001b[0;32m    283\u001b[0m \u001b[38;5;66;03m# select relevant edges\u001b[39;00m\n\u001b[0;32m    284\u001b[0m relevant_textedges \u001b[38;5;241m=\u001b[39m textedges\u001b[38;5;241m.\u001b[39mget_relevant()\n",
      "File \u001b[1;32m~\\anaconda3\\Lib\\site-packages\\camelot\\core.py:132\u001b[0m, in \u001b[0;36mTextEdges.generate\u001b[1;34m(self, textlines)\u001b[0m\n\u001b[0;32m    130\u001b[0m \u001b[38;5;28;01mfor\u001b[39;00m tl \u001b[38;5;129;01min\u001b[39;00m textlines:\n\u001b[0;32m    131\u001b[0m     \u001b[38;5;28;01mif\u001b[39;00m \u001b[38;5;28mlen\u001b[39m(tl\u001b[38;5;241m.\u001b[39mget_text()\u001b[38;5;241m.\u001b[39mstrip()) \u001b[38;5;241m>\u001b[39m \u001b[38;5;241m1\u001b[39m:  \u001b[38;5;66;03m# TODO: hacky\u001b[39;00m\n\u001b[1;32m--> 132\u001b[0m         \u001b[38;5;28mself\u001b[39m\u001b[38;5;241m.\u001b[39mupdate(tl)\n",
      "File \u001b[1;32m~\\anaconda3\\Lib\\site-packages\\camelot\\core.py:118\u001b[0m, in \u001b[0;36mTextEdges.update\u001b[1;34m(self, textline)\u001b[0m\n\u001b[0;32m    116\u001b[0m \u001b[38;5;28;01mfor\u001b[39;00m align \u001b[38;5;129;01min\u001b[39;00m [\u001b[38;5;124m\"\u001b[39m\u001b[38;5;124mleft\u001b[39m\u001b[38;5;124m\"\u001b[39m, \u001b[38;5;124m\"\u001b[39m\u001b[38;5;124mright\u001b[39m\u001b[38;5;124m\"\u001b[39m, \u001b[38;5;124m\"\u001b[39m\u001b[38;5;124mmiddle\u001b[39m\u001b[38;5;124m\"\u001b[39m]:\n\u001b[0;32m    117\u001b[0m     x_coord \u001b[38;5;241m=\u001b[39m \u001b[38;5;28mself\u001b[39m\u001b[38;5;241m.\u001b[39mget_x_coord(textline, align)\n\u001b[1;32m--> 118\u001b[0m     idx \u001b[38;5;241m=\u001b[39m \u001b[38;5;28mself\u001b[39m\u001b[38;5;241m.\u001b[39mfind(x_coord, align)\n\u001b[0;32m    119\u001b[0m     \u001b[38;5;28;01mif\u001b[39;00m idx \u001b[38;5;129;01mis\u001b[39;00m \u001b[38;5;28;01mNone\u001b[39;00m:\n\u001b[0;32m    120\u001b[0m         \u001b[38;5;28mself\u001b[39m\u001b[38;5;241m.\u001b[39madd(textline, align)\n",
      "File \u001b[1;32m~\\anaconda3\\Lib\\site-packages\\camelot\\core.py:102\u001b[0m, in \u001b[0;36mTextEdges.find\u001b[1;34m(self, x_coord, align)\u001b[0m\n\u001b[0;32m     98\u001b[0m \u001b[38;5;250m\u001b[39m\u001b[38;5;124;03m\"\"\"Returns the index of an existing text edge using\u001b[39;00m\n\u001b[0;32m     99\u001b[0m \u001b[38;5;124;03mthe specified x coordinate and alignment.\u001b[39;00m\n\u001b[0;32m    100\u001b[0m \u001b[38;5;124;03m\"\"\"\u001b[39;00m\n\u001b[0;32m    101\u001b[0m \u001b[38;5;28;01mfor\u001b[39;00m i, te \u001b[38;5;129;01min\u001b[39;00m \u001b[38;5;28menumerate\u001b[39m(\u001b[38;5;28mself\u001b[39m\u001b[38;5;241m.\u001b[39m_textedges[align]):\n\u001b[1;32m--> 102\u001b[0m     \u001b[38;5;28;01mif\u001b[39;00m np\u001b[38;5;241m.\u001b[39misclose(te\u001b[38;5;241m.\u001b[39mx, x_coord, atol\u001b[38;5;241m=\u001b[39m\u001b[38;5;241m0.5\u001b[39m):\n\u001b[0;32m    103\u001b[0m         \u001b[38;5;28;01mreturn\u001b[39;00m i\n\u001b[0;32m    104\u001b[0m \u001b[38;5;28;01mreturn\u001b[39;00m \u001b[38;5;28;01mNone\u001b[39;00m\n",
      "File \u001b[1;32m~\\anaconda3\\Lib\\site-packages\\numpy\\core\\numeric.py:2245\u001b[0m, in \u001b[0;36m_isclose_dispatcher\u001b[1;34m(a, b, rtol, atol, equal_nan)\u001b[0m\n\u001b[0;32m   2241\u001b[0m     res \u001b[38;5;241m=\u001b[39m \u001b[38;5;28mall\u001b[39m(isclose(a, b, rtol\u001b[38;5;241m=\u001b[39mrtol, atol\u001b[38;5;241m=\u001b[39matol, equal_nan\u001b[38;5;241m=\u001b[39mequal_nan))\n\u001b[0;32m   2242\u001b[0m     \u001b[38;5;28;01mreturn\u001b[39;00m \u001b[38;5;28mbool\u001b[39m(res)\n\u001b[1;32m-> 2245\u001b[0m \u001b[38;5;28;01mdef\u001b[39;00m \u001b[38;5;21m_isclose_dispatcher\u001b[39m(a, b, rtol\u001b[38;5;241m=\u001b[39m\u001b[38;5;28;01mNone\u001b[39;00m, atol\u001b[38;5;241m=\u001b[39m\u001b[38;5;28;01mNone\u001b[39;00m, equal_nan\u001b[38;5;241m=\u001b[39m\u001b[38;5;28;01mNone\u001b[39;00m):\n\u001b[0;32m   2246\u001b[0m     \u001b[38;5;28;01mreturn\u001b[39;00m (a, b)\n\u001b[0;32m   2249\u001b[0m \u001b[38;5;129m@array_function_dispatch\u001b[39m(_isclose_dispatcher)\n\u001b[0;32m   2250\u001b[0m \u001b[38;5;28;01mdef\u001b[39;00m \u001b[38;5;21misclose\u001b[39m(a, b, rtol\u001b[38;5;241m=\u001b[39m\u001b[38;5;241m1.e-5\u001b[39m, atol\u001b[38;5;241m=\u001b[39m\u001b[38;5;241m1.e-8\u001b[39m, equal_nan\u001b[38;5;241m=\u001b[39m\u001b[38;5;28;01mFalse\u001b[39;00m):\n",
      "\u001b[1;31mKeyboardInterrupt\u001b[0m: "
     ]
    }
   ],
   "source": [
    "# EXCLUSIVAMENTE QUE CONTENGAN LAS PALABRAS CLAVES 'LIMA', 'Lima' y 'Callao'\n",
    "pdfscraping = {'semana':[],\n",
    "               'tablas':[]}\n",
    "claves = ['LIMA','Lima','Callao']\n",
    "\n",
    "for i in range(1,53):\n",
    "    if os.path.exists(f'pdfs2023/dengue_2023{i}.pdf'):\n",
    "        tables = camelot.read_pdf(f'pdfs2023/dengue_2023{i}.pdf',flavor='stream',pages='all')\n",
    "        tablas_interes = [tabla.df for tabla in tables if any(tabla.df.apply(lambda column: column.astype(str).str.contains('|'.join(claves)).any()))]\n",
    "        \n",
    "        pdfscraping['semana'] += [i]\n",
    "        pdfscraping['tablas'] += [tablas_interes]\n",
    "    else: pass"
   ]
  },
  {
   "cell_type": "code",
   "execution_count": null,
   "id": "ca3acc89-fc55-4910-a6ca-a1fe18970273",
   "metadata": {},
   "outputs": [],
   "source": []
  }
 ],
 "metadata": {
  "kernelspec": {
   "display_name": "Python 3 (ipykernel)",
   "language": "python",
   "name": "python3"
  },
  "language_info": {
   "codemirror_mode": {
    "name": "ipython",
    "version": 3
   },
   "file_extension": ".py",
   "mimetype": "text/x-python",
   "name": "python",
   "nbconvert_exporter": "python",
   "pygments_lexer": "ipython3",
   "version": "3.11.7"
  }
 },
 "nbformat": 4,
 "nbformat_minor": 5
}
