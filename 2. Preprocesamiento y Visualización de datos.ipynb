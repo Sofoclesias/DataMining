{
 "cells": [
  {
   "cell_type": "markdown",
   "metadata": {},
   "source": [
    "# 0. Importación de librerías y archivos"
   ]
  },
  {
   "cell_type": "code",
   "execution_count": 1,
   "metadata": {},
   "outputs": [],
   "source": [
    "import pandas as pd\n",
    "import numpy as np\n",
    "import geopandas as gpd\n",
    "import folium"
   ]
  },
  {
   "cell_type": "markdown",
   "metadata": {},
   "source": [
    "# 1. Análisis exploratorio inicial\n",
    "\n",
    "Importar archivos base"
   ]
  },
  {
   "cell_type": "code",
   "execution_count": null,
   "metadata": {},
   "outputs": [],
   "source": [
    "base = pd.read_csv('datasets/dengue.csv')"
   ]
  },
  {
   "cell_type": "markdown",
   "metadata": {},
   "source": [
    "## 1.1. Visualización espacial\n",
    "\n",
    "Ahora que disponemos que la información poligonal tanto para los distritos y las provincias, combinaremos ambas tablas para poder realizar una exploración espacial."
   ]
  },
  {
   "cell_type": "code",
   "execution_count": null,
   "metadata": {},
   "outputs": [
    {
     "name": "stdout",
     "output_type": "stream",
     "text": [
      "Completitud de datos en distritos (filas totales: 890): \n",
      "año          890\n",
      "provincia    890\n",
      "distrito     890\n",
      "casos        890\n",
      "tia          890\n",
      "objectid     880\n",
      "geometry     880\n",
      "dtype: int64\n"
     ]
    }
   ],
   "source": [
    "# Combinación con las tablas de información geográfica poligonal\n",
    "base.set_index(['año','provincia','distrito'],inplace=True)\n",
    "\n",
    "base_dist = base.groupby(level=[0,1,2])[['casos','tia']].sum().reset_index()\n",
    "base_prov = base.groupby(level=[0,1])[['casos','tia']].sum().reset_index()\n",
    "\n",
    "# Combinación con las tablas de información geográfica poligonal\n",
    "geoprov = gpd.GeoDataFrame(base_prov.merge(provincial,how='left',on='provincia')).set_geometry('geometry')\n",
    "geodist = gpd.GeoDataFrame(base_dist.merge(distrital,how='left',on=['provincia','distrito'])).set_geometry('geometry')\n",
    "\n",
    "# Revisando que las tablas generadas tengan la totalidad de registros\n",
    "print(f'Completitud de datos en distritos (filas totales: {geodist.shape[0]}): \\n{geodist.count()}')\n",
    "geodistaño = geodist[(geodist['año']==2024)& ~(geodist['objectid'].isna())]"
   ]
  },
  {
   "cell_type": "code",
   "execution_count": null,
   "metadata": {},
   "outputs": [],
   "source": [
    "m = folium.Map(location=[geodistaño.centroid.y.mean(), geodistaño.centroid.x.mean()], zoom_start=7.2)\n",
    "range = (geodistaño['casos'].quantile((0,0.3,0.5,0.8,0.9,1))).tolist()\n",
    "cp = folium.Choropleth(\n",
    "        geo_data=geodistaño,\n",
    "        name=\"choropleth\",\n",
    "        data=geodist,\n",
    "        columns=['objectid','casos'],\n",
    "        key_on='feature.properties.objectid',\n",
    "        threshold_scale=range,\n",
    "        fill_color=\"YlGn\",\n",
    "        fill_opacity=0.7,\n",
    "        line_opacity=0.2,\n",
    "        legend_name=\"Incidencias de dengue 2024 (TIA)\",\n",
    "        smooth_factor=0\n",
    ").add_to(m)\n",
    "\n",
    "\n",
    "fields=['provincia','distrito','casos']\n",
    "aliases=['Provincia: ','Distrito: ','Casos: ']\n",
    "        \n",
    "funk = folium.features.GeoJson(\n",
    "    geodistaño,\n",
    "    style_function=style_function, \n",
    "    control=False,\n",
    "    highlight_function=highlight_function, \n",
    "    tooltip=folium.features.GeoJsonTooltip(\n",
    "        fields=fields,\n",
    "        aliases=aliases,\n",
    "        style=(\"background-color: white; color: #333333; font-family: arial; font-size: 12px; padding: 10px;\") \n",
    "    )\n",
    ")\n",
    "m.add_child(funk)\n",
    "m.keep_in_front(funk)\n",
    "folium.LayerControl().add_to(m)\n",
    "        \n",
    "display(m)"
   ]
  }
 ],
 "metadata": {
  "kernelspec": {
   "display_name": "base",
   "language": "python",
   "name": "python3"
  },
  "language_info": {
   "codemirror_mode": {
    "name": "ipython",
    "version": 3
   },
   "file_extension": ".py",
   "mimetype": "text/x-python",
   "name": "python",
   "nbconvert_exporter": "python",
   "pygments_lexer": "ipython3",
   "version": "3.11.4"
  }
 },
 "nbformat": 4,
 "nbformat_minor": 2
}
